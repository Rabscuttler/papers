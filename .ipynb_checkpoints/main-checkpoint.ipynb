{
 "cells": [
  {
   "cell_type": "markdown",
   "metadata": {
    "extensions": {
     "jupyter_dashboards": {
      "version": 1,
      "views": {
       "grid_default": {},
       "report_default": {
        "hidden": false
       }
      }
     }
    }
   },
   "source": [
    "# My Breakfast Papers\n",
    "\n",
    "An hourly updated news feed with custom filters powered by [Treebeard](https://treebeard.io), [News API](https://newsapi.org/)"
   ]
  },
  {
   "cell_type": "markdown",
   "metadata": {
    "extensions": {
     "jupyter_dashboards": {
      "version": 1,
      "views": {
       "grid_default": {},
       "report_default": {
        "hidden": false
       }
      }
     }
    }
   },
   "source": [
    "## Setup"
   ]
  },
  {
   "cell_type": "code",
   "execution_count": 1,
   "metadata": {
    "extensions": {
     "jupyter_dashboards": {
      "version": 1,
      "views": {
       "grid_default": {},
       "report_default": {
        "hidden": true
       }
      }
     }
    }
   },
   "outputs": [],
   "source": [
    "# !pip install jupyter_dashboards\n",
    "# !jupyter dashboards quick-setup --sys-prefix"
   ]
  },
  {
   "cell_type": "code",
   "execution_count": 6,
   "metadata": {
    "extensions": {
     "jupyter_dashboards": {
      "version": 1,
      "views": {
       "grid_default": {},
       "report_default": {
        "hidden": false
       }
      }
     }
    }
   },
   "outputs": [
    {
     "name": "stdout",
     "output_type": "stream",
     "text": [
      "\u001b[0m0.0.47\n",
      "\u001b[0m\u001b[0m"
     ]
    }
   ],
   "source": [
    "# !pip install -U treebeard\n",
    "!treebeard version"
   ]
  },
  {
   "cell_type": "markdown",
   "metadata": {
    "extensions": {
     "jupyter_dashboards": {
      "version": 1,
      "views": {
       "grid_default": {},
       "report_default": {
        "hidden": false
       }
      }
     }
    }
   },
   "source": [
    "Add my News API key in a file named `secrets.json` which I securely store using Treebeard secrets store.  \n",
    "I also add `secrets.json` to my `.gitignore` file so it doesn't get committed to a repository."
   ]
  },
  {
   "cell_type": "code",
   "execution_count": 3,
   "metadata": {
    "extensions": {
     "jupyter_dashboards": {
      "version": 1,
      "views": {
       "grid_default": {},
       "report_default": {
        "hidden": true
       }
      }
     }
    }
   },
   "outputs": [],
   "source": [
    "# !treebeard secrets push -f secrets.json"
   ]
  },
  {
   "cell_type": "code",
   "execution_count": 17,
   "metadata": {
    "extensions": {
     "jupyter_dashboards": {
      "version": 1,
      "views": {
       "grid_default": {},
       "report_default": {
        "hidden": false
       }
      }
     }
    }
   },
   "outputs": [],
   "source": [
    "import json\n",
    "with open(\"secrets.json\") as f:\n",
    "    secrets = json.loads(f.read())"
   ]
  },
  {
   "cell_type": "code",
   "execution_count": 18,
   "metadata": {
    "extensions": {
     "jupyter_dashboards": {
      "version": 1,
      "views": {
       "grid_default": {},
       "report_default": {
        "hidden": true
       }
      }
     }
    }
   },
   "outputs": [],
   "source": [
    "# import some libraries that I'll be using\n",
    "import requests\n",
    "import pandas as pd"
   ]
  },
  {
   "cell_type": "markdown",
   "metadata": {
    "extensions": {
     "jupyter_dashboards": {
      "version": 1,
      "views": {
       "grid_default": {},
       "report_default": {
        "hidden": false
       }
      }
     }
    },
    "heading_collapsed": true
   },
   "source": [
    "## Call News API and get some news"
   ]
  },
  {
   "cell_type": "markdown",
   "metadata": {
    "extensions": {
     "jupyter_dashboards": {
      "version": 1,
      "views": {
       "grid_default": {},
       "report_default": {
        "hidden": false
       }
      }
     }
    },
    "hidden": true
   },
   "source": [
    "News API recommend using the API key as the value with the `X-Api-Key` or `Authorization` HTTP headers, rather than as part of a query string request."
   ]
  },
  {
   "cell_type": "code",
   "execution_count": 19,
   "metadata": {
    "extensions": {
     "jupyter_dashboards": {
      "version": 1,
      "views": {
       "grid_default": {},
       "report_default": {
        "hidden": true
       }
      }
     }
    },
    "hidden": true
   },
   "outputs": [],
   "source": [
    "# construct headers to query News API\n",
    "headers = {\"Authorization\": f\"{secrets['newsapi_key']}\"}"
   ]
  },
  {
   "cell_type": "markdown",
   "metadata": {
    "extensions": {
     "jupyter_dashboards": {
      "version": 1,
      "views": {
       "grid_default": {},
       "report_default": {
        "hidden": false
       }
      }
     }
    },
    "hidden": true
   },
   "source": [
    "News API offers a few different endpoints, like `/v2/top-headlines` for the most popular and breaking news stories with country filters. I'd like to cast a wide net and then filter in here, so I could query `/v2/everything` - but then I'd have to set query parameters.  \n",
    "I'd rather take whatever news items come and create some exclusion rules after that.  \n",
    "Their [documentation](https://newsapi.org/docs/endpoints/everything) is very informative, breaking down the parameters that are available."
   ]
  },
  {
   "cell_type": "code",
   "execution_count": 20,
   "metadata": {
    "extensions": {
     "jupyter_dashboards": {
      "version": 1,
      "views": {
       "grid_default": {},
       "report_default": {
        "hidden": true
       }
      }
     }
    },
    "hidden": true
   },
   "outputs": [],
   "source": [
    "query = \"cake\"\n",
    "country = \"gb\"\n",
    "everything_url = f\"http://newsapi.org/v2/top-headlines?query={query}\"\n",
    "top_url = f\"http://newsapi.org/v2/top-headlines?country={country}\""
   ]
  },
  {
   "cell_type": "code",
   "execution_count": 21,
   "metadata": {
    "extensions": {
     "jupyter_dashboards": {
      "version": 1,
      "views": {
       "grid_default": {},
       "report_default": {
        "hidden": true
       }
      }
     }
    },
    "hidden": true
   },
   "outputs": [],
   "source": [
    "r = requests.get(top_url, headers=headers)"
   ]
  },
  {
   "cell_type": "code",
   "execution_count": 22,
   "metadata": {
    "extensions": {
     "jupyter_dashboards": {
      "version": 1,
      "views": {
       "grid_default": {},
       "report_default": {
        "hidden": false
       }
      }
     }
    },
    "hidden": true
   },
   "outputs": [
    {
     "data": {
      "text/html": [
       "<div>\n",
       "<style scoped>\n",
       "    .dataframe tbody tr th:only-of-type {\n",
       "        vertical-align: middle;\n",
       "    }\n",
       "\n",
       "    .dataframe tbody tr th {\n",
       "        vertical-align: top;\n",
       "    }\n",
       "\n",
       "    .dataframe thead th {\n",
       "        text-align: right;\n",
       "    }\n",
       "</style>\n",
       "<table border=\"1\" class=\"dataframe\">\n",
       "  <thead>\n",
       "    <tr style=\"text-align: right;\">\n",
       "      <th></th>\n",
       "      <th>source</th>\n",
       "      <th>author</th>\n",
       "      <th>title</th>\n",
       "      <th>description</th>\n",
       "      <th>url</th>\n",
       "      <th>urlToImage</th>\n",
       "      <th>publishedAt</th>\n",
       "      <th>content</th>\n",
       "    </tr>\n",
       "  </thead>\n",
       "  <tbody>\n",
       "    <tr>\n",
       "      <th>0</th>\n",
       "      <td>{'id': None, 'name': 'Sky.com'}</td>\n",
       "      <td>Greg Heffer</td>\n",
       "      <td>Budget 2020: Chancellor Rishi Sunak's plan to ...</td>\n",
       "      <td>The government will provide a £30bn stimulus t...</td>\n",
       "      <td>https://news.sky.com/story/coronavirus-uk-one-...</td>\n",
       "      <td>https://e3.365dm.com/20/03/1600x900/skynews-ri...</td>\n",
       "      <td>2020-03-11T12:45:00Z</td>\n",
       "      <td>None</td>\n",
       "    </tr>\n",
       "  </tbody>\n",
       "</table>\n",
       "</div>"
      ],
      "text/plain": [
       "                            source       author  \\\n",
       "0  {'id': None, 'name': 'Sky.com'}  Greg Heffer   \n",
       "\n",
       "                                               title  \\\n",
       "0  Budget 2020: Chancellor Rishi Sunak's plan to ...   \n",
       "\n",
       "                                         description  \\\n",
       "0  The government will provide a £30bn stimulus t...   \n",
       "\n",
       "                                                 url  \\\n",
       "0  https://news.sky.com/story/coronavirus-uk-one-...   \n",
       "\n",
       "                                          urlToImage           publishedAt  \\\n",
       "0  https://e3.365dm.com/20/03/1600x900/skynews-ri...  2020-03-11T12:45:00Z   \n",
       "\n",
       "  content  \n",
       "0    None  "
      ]
     },
     "execution_count": 22,
     "metadata": {},
     "output_type": "execute_result"
    }
   ],
   "source": [
    "stories = pd.DataFrame(json.loads(r.text)['articles'])\n",
    "stories.head(1)"
   ]
  },
  {
   "cell_type": "code",
   "execution_count": 23,
   "metadata": {
    "extensions": {
     "jupyter_dashboards": {
      "version": 1,
      "views": {
       "grid_default": {},
       "report_default": {
        "hidden": true
       }
      }
     }
    },
    "hidden": true
   },
   "outputs": [],
   "source": [
    "# clean up the source column\n",
    "stories['id'] = stories['source'].apply(lambda x: x['id'])\n",
    "stories['name'] = stories['source'].apply(lambda x: x['name'])\n",
    "stories = stories.drop('source', axis=1)"
   ]
  },
  {
   "cell_type": "code",
   "execution_count": 24,
   "metadata": {
    "extensions": {
     "jupyter_dashboards": {
      "version": 1,
      "views": {
       "grid_default": {},
       "report_default": {
        "hidden": false
       }
      }
     }
    },
    "hidden": true
   },
   "outputs": [
    {
     "data": {
      "text/html": [
       "<div>\n",
       "<style scoped>\n",
       "    .dataframe tbody tr th:only-of-type {\n",
       "        vertical-align: middle;\n",
       "    }\n",
       "\n",
       "    .dataframe tbody tr th {\n",
       "        vertical-align: top;\n",
       "    }\n",
       "\n",
       "    .dataframe thead th {\n",
       "        text-align: right;\n",
       "    }\n",
       "</style>\n",
       "<table border=\"1\" class=\"dataframe\">\n",
       "  <thead>\n",
       "    <tr style=\"text-align: right;\">\n",
       "      <th></th>\n",
       "      <th>author</th>\n",
       "      <th>title</th>\n",
       "      <th>description</th>\n",
       "      <th>url</th>\n",
       "      <th>urlToImage</th>\n",
       "      <th>publishedAt</th>\n",
       "      <th>content</th>\n",
       "      <th>id</th>\n",
       "      <th>name</th>\n",
       "    </tr>\n",
       "  </thead>\n",
       "  <tbody>\n",
       "    <tr>\n",
       "      <th>0</th>\n",
       "      <td>Greg Heffer</td>\n",
       "      <td>Budget 2020: Chancellor Rishi Sunak's plan to ...</td>\n",
       "      <td>The government will provide a £30bn stimulus t...</td>\n",
       "      <td>https://news.sky.com/story/coronavirus-uk-one-...</td>\n",
       "      <td>https://e3.365dm.com/20/03/1600x900/skynews-ri...</td>\n",
       "      <td>2020-03-11T12:45:00Z</td>\n",
       "      <td>None</td>\n",
       "      <td>None</td>\n",
       "      <td>Sky.com</td>\n",
       "    </tr>\n",
       "    <tr>\n",
       "      <th>1</th>\n",
       "      <td>Alex Matthews</td>\n",
       "      <td>MP Nadine Dorries sparks Parliament coronaviru...</td>\n",
       "      <td></td>\n",
       "      <td>http://www.thesun.co.uk/news/politics/11146410...</td>\n",
       "      <td>https://www.thesun.co.uk/wp-content/uploads/20...</td>\n",
       "      <td>2020-03-11T12:39:28Z</td>\n",
       "      <td>NADINE Dorries has sparked more Parliament cor...</td>\n",
       "      <td>None</td>\n",
       "      <td>Thesun.co.uk</td>\n",
       "    </tr>\n",
       "    <tr>\n",
       "      <th>2</th>\n",
       "      <td>Samantha Lock</td>\n",
       "      <td>British woman, 53, killed by coronavirus in Ba...</td>\n",
       "      <td></td>\n",
       "      <td>http://www.thesun.co.uk/news/11146278/british-...</td>\n",
       "      <td>https://www.thesun.co.uk/wp-content/uploads/20...</td>\n",
       "      <td>2020-03-11T12:39:26Z</td>\n",
       "      <td>A BRITISH woman has died in Bali after contrac...</td>\n",
       "      <td>None</td>\n",
       "      <td>Thesun.co.uk</td>\n",
       "    </tr>\n",
       "    <tr>\n",
       "      <th>3</th>\n",
       "      <td>https://www.facebook.com/bbcnews</td>\n",
       "      <td>Coronavirus: Up to 70% of Germany could become...</td>\n",
       "      <td>The chancellor warns that as many as 58 millio...</td>\n",
       "      <td>https://www.bbc.co.uk/news/world-us-canada-518...</td>\n",
       "      <td>https://ichef.bbci.co.uk/news/1024/branded_new...</td>\n",
       "      <td>2020-03-11T12:06:41Z</td>\n",
       "      <td>Image copyrightReutersImage caption\\r\\n Chance...</td>\n",
       "      <td>bbc-news</td>\n",
       "      <td>BBC News</td>\n",
       "    </tr>\n",
       "    <tr>\n",
       "      <th>4</th>\n",
       "      <td>Adam Marshall</td>\n",
       "      <td>United's training squad ahead of LASK tie - Ma...</td>\n",
       "      <td>See which players were spotted by our cameras ...</td>\n",
       "      <td>https://www.manutd.com/en/news/detail/man-utd-...</td>\n",
       "      <td>https://www.manutd.com/AssetPicker/images/0/0/...</td>\n",
       "      <td>2020-03-11T12:06:23Z</td>\n",
       "      <td>Training squad: David De Gea, Sergio Romero, N...</td>\n",
       "      <td>None</td>\n",
       "      <td>Manutd.com</td>\n",
       "    </tr>\n",
       "  </tbody>\n",
       "</table>\n",
       "</div>"
      ],
      "text/plain": [
       "                             author  \\\n",
       "0                       Greg Heffer   \n",
       "1                     Alex Matthews   \n",
       "2                     Samantha Lock   \n",
       "3  https://www.facebook.com/bbcnews   \n",
       "4                     Adam Marshall   \n",
       "\n",
       "                                               title  \\\n",
       "0  Budget 2020: Chancellor Rishi Sunak's plan to ...   \n",
       "1  MP Nadine Dorries sparks Parliament coronaviru...   \n",
       "2  British woman, 53, killed by coronavirus in Ba...   \n",
       "3  Coronavirus: Up to 70% of Germany could become...   \n",
       "4  United's training squad ahead of LASK tie - Ma...   \n",
       "\n",
       "                                         description  \\\n",
       "0  The government will provide a £30bn stimulus t...   \n",
       "1                                                      \n",
       "2                                                      \n",
       "3  The chancellor warns that as many as 58 millio...   \n",
       "4  See which players were spotted by our cameras ...   \n",
       "\n",
       "                                                 url  \\\n",
       "0  https://news.sky.com/story/coronavirus-uk-one-...   \n",
       "1  http://www.thesun.co.uk/news/politics/11146410...   \n",
       "2  http://www.thesun.co.uk/news/11146278/british-...   \n",
       "3  https://www.bbc.co.uk/news/world-us-canada-518...   \n",
       "4  https://www.manutd.com/en/news/detail/man-utd-...   \n",
       "\n",
       "                                          urlToImage           publishedAt  \\\n",
       "0  https://e3.365dm.com/20/03/1600x900/skynews-ri...  2020-03-11T12:45:00Z   \n",
       "1  https://www.thesun.co.uk/wp-content/uploads/20...  2020-03-11T12:39:28Z   \n",
       "2  https://www.thesun.co.uk/wp-content/uploads/20...  2020-03-11T12:39:26Z   \n",
       "3  https://ichef.bbci.co.uk/news/1024/branded_new...  2020-03-11T12:06:41Z   \n",
       "4  https://www.manutd.com/AssetPicker/images/0/0/...  2020-03-11T12:06:23Z   \n",
       "\n",
       "                                             content        id          name  \n",
       "0                                               None      None       Sky.com  \n",
       "1  NADINE Dorries has sparked more Parliament cor...      None  Thesun.co.uk  \n",
       "2  A BRITISH woman has died in Bali after contrac...      None  Thesun.co.uk  \n",
       "3  Image copyrightReutersImage caption\\r\\n Chance...  bbc-news      BBC News  \n",
       "4  Training squad: David De Gea, Sergio Romero, N...      None    Manutd.com  "
      ]
     },
     "execution_count": 24,
     "metadata": {},
     "output_type": "execute_result"
    }
   ],
   "source": [
    "stories.head(5)"
   ]
  },
  {
   "cell_type": "markdown",
   "metadata": {
    "extensions": {
     "jupyter_dashboards": {
      "version": 1,
      "views": {
       "grid_default": {},
       "report_default": {
        "hidden": false
       }
      }
     }
    },
    "hidden": true
   },
   "source": [
    "We're in business  \n",
    "\n",
    "News API also offer a convenient `sources` endpoint showing what feeds in to top-headlines. I'll use that to power a dashboard where I can choose which sources to include."
   ]
  },
  {
   "cell_type": "code",
   "execution_count": 25,
   "metadata": {
    "extensions": {
     "jupyter_dashboards": {
      "version": 1,
      "views": {
       "grid_default": {},
       "report_default": {
        "hidden": false
       }
      }
     }
    },
    "hidden": true
   },
   "outputs": [
    {
     "data": {
      "text/html": [
       "<div>\n",
       "<style scoped>\n",
       "    .dataframe tbody tr th:only-of-type {\n",
       "        vertical-align: middle;\n",
       "    }\n",
       "\n",
       "    .dataframe tbody tr th {\n",
       "        vertical-align: top;\n",
       "    }\n",
       "\n",
       "    .dataframe thead th {\n",
       "        text-align: right;\n",
       "    }\n",
       "</style>\n",
       "<table border=\"1\" class=\"dataframe\">\n",
       "  <thead>\n",
       "    <tr style=\"text-align: right;\">\n",
       "      <th></th>\n",
       "      <th>id</th>\n",
       "      <th>name</th>\n",
       "      <th>description</th>\n",
       "      <th>url</th>\n",
       "      <th>category</th>\n",
       "      <th>language</th>\n",
       "      <th>country</th>\n",
       "    </tr>\n",
       "  </thead>\n",
       "  <tbody>\n",
       "    <tr>\n",
       "      <th>0</th>\n",
       "      <td>abc-news</td>\n",
       "      <td>ABC News</td>\n",
       "      <td>Your trusted source for breaking news, analysi...</td>\n",
       "      <td>https://abcnews.go.com</td>\n",
       "      <td>general</td>\n",
       "      <td>en</td>\n",
       "      <td>us</td>\n",
       "    </tr>\n",
       "    <tr>\n",
       "      <th>1</th>\n",
       "      <td>abc-news-au</td>\n",
       "      <td>ABC News (AU)</td>\n",
       "      <td>Australia's most trusted source of local, nati...</td>\n",
       "      <td>http://www.abc.net.au/news</td>\n",
       "      <td>general</td>\n",
       "      <td>en</td>\n",
       "      <td>au</td>\n",
       "    </tr>\n",
       "    <tr>\n",
       "      <th>2</th>\n",
       "      <td>aftenposten</td>\n",
       "      <td>Aftenposten</td>\n",
       "      <td>Norges ledende nettavis med alltid oppdaterte ...</td>\n",
       "      <td>https://www.aftenposten.no</td>\n",
       "      <td>general</td>\n",
       "      <td>no</td>\n",
       "      <td>no</td>\n",
       "    </tr>\n",
       "    <tr>\n",
       "      <th>3</th>\n",
       "      <td>al-jazeera-english</td>\n",
       "      <td>Al Jazeera English</td>\n",
       "      <td>News, analysis from the Middle East and worldw...</td>\n",
       "      <td>http://www.aljazeera.com</td>\n",
       "      <td>general</td>\n",
       "      <td>en</td>\n",
       "      <td>us</td>\n",
       "    </tr>\n",
       "    <tr>\n",
       "      <th>4</th>\n",
       "      <td>ansa</td>\n",
       "      <td>ANSA.it</td>\n",
       "      <td>Agenzia ANSA: ultime notizie, foto, video e ap...</td>\n",
       "      <td>http://www.ansa.it</td>\n",
       "      <td>general</td>\n",
       "      <td>it</td>\n",
       "      <td>it</td>\n",
       "    </tr>\n",
       "  </tbody>\n",
       "</table>\n",
       "</div>"
      ],
      "text/plain": [
       "                   id                name  \\\n",
       "0            abc-news            ABC News   \n",
       "1         abc-news-au       ABC News (AU)   \n",
       "2         aftenposten         Aftenposten   \n",
       "3  al-jazeera-english  Al Jazeera English   \n",
       "4                ansa             ANSA.it   \n",
       "\n",
       "                                         description  \\\n",
       "0  Your trusted source for breaking news, analysi...   \n",
       "1  Australia's most trusted source of local, nati...   \n",
       "2  Norges ledende nettavis med alltid oppdaterte ...   \n",
       "3  News, analysis from the Middle East and worldw...   \n",
       "4  Agenzia ANSA: ultime notizie, foto, video e ap...   \n",
       "\n",
       "                          url category language country  \n",
       "0      https://abcnews.go.com  general       en      us  \n",
       "1  http://www.abc.net.au/news  general       en      au  \n",
       "2  https://www.aftenposten.no  general       no      no  \n",
       "3    http://www.aljazeera.com  general       en      us  \n",
       "4          http://www.ansa.it  general       it      it  "
      ]
     },
     "execution_count": 25,
     "metadata": {},
     "output_type": "execute_result"
    }
   ],
   "source": [
    "sources_url = \"http://newsapi.org/v2/sources\"\n",
    "r = requests.get(sources_url, headers=headers)\n",
    "sources = pd.DataFrame(json.loads(r.text)['sources'])\n",
    "sources.head()"
   ]
  },
  {
   "cell_type": "markdown",
   "metadata": {
    "extensions": {
     "jupyter_dashboards": {
      "version": 1,
      "views": {
       "grid_default": {},
       "report_default": {
        "hidden": false
       }
      }
     }
    },
    "hidden": true
   },
   "source": [
    "Straight away it's clear I should filter for language as regretfully I can only read English.  \n",
    "Let's do that and get UK sources as well."
   ]
  },
  {
   "cell_type": "code",
   "execution_count": 26,
   "metadata": {
    "extensions": {
     "jupyter_dashboards": {
      "version": 1,
      "views": {
       "grid_default": {},
       "report_default": {
        "hidden": false
       }
      }
     }
    },
    "hidden": true
   },
   "outputs": [
    {
     "data": {
      "text/html": [
       "<div>\n",
       "<style scoped>\n",
       "    .dataframe tbody tr th:only-of-type {\n",
       "        vertical-align: middle;\n",
       "    }\n",
       "\n",
       "    .dataframe tbody tr th {\n",
       "        vertical-align: top;\n",
       "    }\n",
       "\n",
       "    .dataframe thead th {\n",
       "        text-align: right;\n",
       "    }\n",
       "</style>\n",
       "<table border=\"1\" class=\"dataframe\">\n",
       "  <thead>\n",
       "    <tr style=\"text-align: right;\">\n",
       "      <th></th>\n",
       "      <th>id</th>\n",
       "      <th>name</th>\n",
       "      <th>description</th>\n",
       "      <th>url</th>\n",
       "      <th>category</th>\n",
       "      <th>language</th>\n",
       "      <th>country</th>\n",
       "    </tr>\n",
       "  </thead>\n",
       "  <tbody>\n",
       "    <tr>\n",
       "      <th>11</th>\n",
       "      <td>bbc-news</td>\n",
       "      <td>BBC News</td>\n",
       "      <td>Use BBC News for up-to-the-minute news, breaki...</td>\n",
       "      <td>http://www.bbc.co.uk/news</td>\n",
       "      <td>general</td>\n",
       "      <td>en</td>\n",
       "      <td>gb</td>\n",
       "    </tr>\n",
       "    <tr>\n",
       "      <th>12</th>\n",
       "      <td>bbc-sport</td>\n",
       "      <td>BBC Sport</td>\n",
       "      <td>The home of BBC Sport online. Includes live sp...</td>\n",
       "      <td>http://www.bbc.co.uk/sport</td>\n",
       "      <td>sports</td>\n",
       "      <td>en</td>\n",
       "      <td>gb</td>\n",
       "    </tr>\n",
       "    <tr>\n",
       "      <th>19</th>\n",
       "      <td>business-insider-uk</td>\n",
       "      <td>Business Insider (UK)</td>\n",
       "      <td>Business Insider is a fast-growing business si...</td>\n",
       "      <td>http://uk.businessinsider.com</td>\n",
       "      <td>business</td>\n",
       "      <td>en</td>\n",
       "      <td>gb</td>\n",
       "    </tr>\n",
       "    <tr>\n",
       "      <th>38</th>\n",
       "      <td>four-four-two</td>\n",
       "      <td>FourFourTwo</td>\n",
       "      <td>The latest football news, in-depth features, t...</td>\n",
       "      <td>http://www.fourfourtwo.com/news</td>\n",
       "      <td>sports</td>\n",
       "      <td>en</td>\n",
       "      <td>gb</td>\n",
       "    </tr>\n",
       "    <tr>\n",
       "      <th>53</th>\n",
       "      <td>google-news-uk</td>\n",
       "      <td>Google News (UK)</td>\n",
       "      <td>Comprehensive, up-to-date UK news coverage, ag...</td>\n",
       "      <td>https://news.google.com</td>\n",
       "      <td>general</td>\n",
       "      <td>en</td>\n",
       "      <td>gb</td>\n",
       "    </tr>\n",
       "    <tr>\n",
       "      <th>60</th>\n",
       "      <td>independent</td>\n",
       "      <td>Independent</td>\n",
       "      <td>National morning quality (tabloid) includes fr...</td>\n",
       "      <td>http://www.independent.co.uk</td>\n",
       "      <td>general</td>\n",
       "      <td>en</td>\n",
       "      <td>gb</td>\n",
       "    </tr>\n",
       "    <tr>\n",
       "      <th>76</th>\n",
       "      <td>mtv-news-uk</td>\n",
       "      <td>MTV News (UK)</td>\n",
       "      <td>All the latest celebrity news, gossip, exclusi...</td>\n",
       "      <td>http://www.mtv.co.uk/news</td>\n",
       "      <td>entertainment</td>\n",
       "      <td>en</td>\n",
       "      <td>gb</td>\n",
       "    </tr>\n",
       "    <tr>\n",
       "      <th>102</th>\n",
       "      <td>talksport</td>\n",
       "      <td>TalkSport</td>\n",
       "      <td>Tune in to the world's biggest sports radio st...</td>\n",
       "      <td>http://talksport.com</td>\n",
       "      <td>sports</td>\n",
       "      <td>en</td>\n",
       "      <td>gb</td>\n",
       "    </tr>\n",
       "    <tr>\n",
       "      <th>113</th>\n",
       "      <td>the-lad-bible</td>\n",
       "      <td>The Lad Bible</td>\n",
       "      <td>The LAD Bible is one of the largest community ...</td>\n",
       "      <td>https://www.theladbible.com</td>\n",
       "      <td>entertainment</td>\n",
       "      <td>en</td>\n",
       "      <td>gb</td>\n",
       "    </tr>\n",
       "    <tr>\n",
       "      <th>115</th>\n",
       "      <td>the-sport-bible</td>\n",
       "      <td>The Sport Bible</td>\n",
       "      <td>TheSPORTbible is one of the largest communitie...</td>\n",
       "      <td>https://www.thesportbible.com</td>\n",
       "      <td>sports</td>\n",
       "      <td>en</td>\n",
       "      <td>gb</td>\n",
       "    </tr>\n",
       "  </tbody>\n",
       "</table>\n",
       "</div>"
      ],
      "text/plain": [
       "                      id                   name  \\\n",
       "11              bbc-news               BBC News   \n",
       "12             bbc-sport              BBC Sport   \n",
       "19   business-insider-uk  Business Insider (UK)   \n",
       "38         four-four-two            FourFourTwo   \n",
       "53        google-news-uk       Google News (UK)   \n",
       "60           independent            Independent   \n",
       "76           mtv-news-uk          MTV News (UK)   \n",
       "102            talksport              TalkSport   \n",
       "113        the-lad-bible          The Lad Bible   \n",
       "115      the-sport-bible        The Sport Bible   \n",
       "\n",
       "                                           description  \\\n",
       "11   Use BBC News for up-to-the-minute news, breaki...   \n",
       "12   The home of BBC Sport online. Includes live sp...   \n",
       "19   Business Insider is a fast-growing business si...   \n",
       "38   The latest football news, in-depth features, t...   \n",
       "53   Comprehensive, up-to-date UK news coverage, ag...   \n",
       "60   National morning quality (tabloid) includes fr...   \n",
       "76   All the latest celebrity news, gossip, exclusi...   \n",
       "102  Tune in to the world's biggest sports radio st...   \n",
       "113  The LAD Bible is one of the largest community ...   \n",
       "115  TheSPORTbible is one of the largest communitie...   \n",
       "\n",
       "                                 url       category language country  \n",
       "11         http://www.bbc.co.uk/news        general       en      gb  \n",
       "12        http://www.bbc.co.uk/sport         sports       en      gb  \n",
       "19     http://uk.businessinsider.com       business       en      gb  \n",
       "38   http://www.fourfourtwo.com/news         sports       en      gb  \n",
       "53           https://news.google.com        general       en      gb  \n",
       "60      http://www.independent.co.uk        general       en      gb  \n",
       "76         http://www.mtv.co.uk/news  entertainment       en      gb  \n",
       "102             http://talksport.com         sports       en      gb  \n",
       "113      https://www.theladbible.com  entertainment       en      gb  \n",
       "115    https://www.thesportbible.com         sports       en      gb  "
      ]
     },
     "execution_count": 26,
     "metadata": {},
     "output_type": "execute_result"
    }
   ],
   "source": [
    "sources[(sources['language']=='en') & (sources['country']=='gb')]"
   ]
  },
  {
   "cell_type": "markdown",
   "metadata": {
    "extensions": {
     "jupyter_dashboards": {
      "version": 1,
      "views": {
       "grid_default": {},
       "report_default": {
        "hidden": false
       }
      }
     }
    },
    "hidden": true
   },
   "source": [
    "Interesting - there are newspapers I would expect to see that are missing.  \n",
    "I think this source list changes frequently as the top headlines change."
   ]
  },
  {
   "cell_type": "code",
   "execution_count": 27,
   "metadata": {
    "extensions": {
     "jupyter_dashboards": {
      "version": 1,
      "views": {
       "grid_default": {},
       "report_default": {
        "hidden": false
       }
      }
     }
    },
    "hidden": true
   },
   "outputs": [
    {
     "data": {
      "text/html": [
       "<div>\n",
       "<style scoped>\n",
       "    .dataframe tbody tr th:only-of-type {\n",
       "        vertical-align: middle;\n",
       "    }\n",
       "\n",
       "    .dataframe tbody tr th {\n",
       "        vertical-align: top;\n",
       "    }\n",
       "\n",
       "    .dataframe thead th {\n",
       "        text-align: right;\n",
       "    }\n",
       "</style>\n",
       "<table border=\"1\" class=\"dataframe\">\n",
       "  <thead>\n",
       "    <tr style=\"text-align: right;\">\n",
       "      <th></th>\n",
       "      <th>id</th>\n",
       "      <th>name</th>\n",
       "      <th>description</th>\n",
       "      <th>url</th>\n",
       "      <th>category</th>\n",
       "      <th>language</th>\n",
       "      <th>country</th>\n",
       "    </tr>\n",
       "  </thead>\n",
       "  <tbody>\n",
       "  </tbody>\n",
       "</table>\n",
       "</div>"
      ],
      "text/plain": [
       "Empty DataFrame\n",
       "Columns: [id, name, description, url, category, language, country]\n",
       "Index: []"
      ]
     },
     "execution_count": 27,
     "metadata": {},
     "output_type": "execute_result"
    }
   ],
   "source": [
    "sources[sources['url'].str.contains('Sky')]"
   ]
  },
  {
   "cell_type": "code",
   "execution_count": 28,
   "metadata": {
    "extensions": {
     "jupyter_dashboards": {
      "version": 1,
      "views": {
       "grid_default": {},
       "report_default": {
        "hidden": false
       }
      }
     }
    },
    "hidden": true
   },
   "outputs": [
    {
     "data": {
      "text/html": [
       "<div>\n",
       "<style scoped>\n",
       "    .dataframe tbody tr th:only-of-type {\n",
       "        vertical-align: middle;\n",
       "    }\n",
       "\n",
       "    .dataframe tbody tr th {\n",
       "        vertical-align: top;\n",
       "    }\n",
       "\n",
       "    .dataframe thead th {\n",
       "        text-align: right;\n",
       "    }\n",
       "</style>\n",
       "<table border=\"1\" class=\"dataframe\">\n",
       "  <thead>\n",
       "    <tr style=\"text-align: right;\">\n",
       "      <th></th>\n",
       "      <th>author</th>\n",
       "      <th>title</th>\n",
       "      <th>description</th>\n",
       "      <th>url</th>\n",
       "      <th>urlToImage</th>\n",
       "      <th>publishedAt</th>\n",
       "      <th>content</th>\n",
       "      <th>id</th>\n",
       "      <th>name</th>\n",
       "    </tr>\n",
       "  </thead>\n",
       "  <tbody>\n",
       "    <tr>\n",
       "      <th>0</th>\n",
       "      <td>Greg Heffer</td>\n",
       "      <td>Budget 2020: Chancellor Rishi Sunak's plan to ...</td>\n",
       "      <td>The government will provide a £30bn stimulus t...</td>\n",
       "      <td>https://news.sky.com/story/coronavirus-uk-one-...</td>\n",
       "      <td>https://e3.365dm.com/20/03/1600x900/skynews-ri...</td>\n",
       "      <td>2020-03-11T12:45:00Z</td>\n",
       "      <td>None</td>\n",
       "      <td>None</td>\n",
       "      <td>Sky.com</td>\n",
       "    </tr>\n",
       "  </tbody>\n",
       "</table>\n",
       "</div>"
      ],
      "text/plain": [
       "        author                                              title  \\\n",
       "0  Greg Heffer  Budget 2020: Chancellor Rishi Sunak's plan to ...   \n",
       "\n",
       "                                         description  \\\n",
       "0  The government will provide a £30bn stimulus t...   \n",
       "\n",
       "                                                 url  \\\n",
       "0  https://news.sky.com/story/coronavirus-uk-one-...   \n",
       "\n",
       "                                          urlToImage           publishedAt  \\\n",
       "0  https://e3.365dm.com/20/03/1600x900/skynews-ri...  2020-03-11T12:45:00Z   \n",
       "\n",
       "  content    id     name  \n",
       "0    None  None  Sky.com  "
      ]
     },
     "execution_count": 28,
     "metadata": {},
     "output_type": "execute_result"
    }
   ],
   "source": [
    "stories[stories['name'].str.contains('Sky')].head(1)"
   ]
  },
  {
   "cell_type": "markdown",
   "metadata": {
    "extensions": {
     "jupyter_dashboards": {
      "version": 1,
      "views": {
       "grid_default": {},
       "report_default": {
        "hidden": false
       }
      }
     }
    },
    "hidden": true
   },
   "source": [
    "Another thing I don't understand - the top stories have sources that don't apear in the sources list.  \n",
    "Maybe I need to give the `sources` endpoint the `country` code as well?"
   ]
  },
  {
   "cell_type": "code",
   "execution_count": 29,
   "metadata": {
    "extensions": {
     "jupyter_dashboards": {
      "version": 1,
      "views": {
       "grid_default": {},
       "report_default": {
        "hidden": true
       }
      }
     }
    },
    "hidden": true
   },
   "outputs": [],
   "source": [
    "sources_url = f\"http://newsapi.org/v2/sources?country={country}\"\n",
    "r = requests.get(sources_url, headers=headers)\n",
    "sources = pd.DataFrame(json.loads(r.text)['sources'])"
   ]
  },
  {
   "cell_type": "code",
   "execution_count": 30,
   "metadata": {
    "extensions": {
     "jupyter_dashboards": {
      "version": 1,
      "views": {
       "grid_default": {},
       "report_default": {
        "hidden": false
       }
      }
     }
    },
    "hidden": true
   },
   "outputs": [
    {
     "data": {
      "text/html": [
       "<div>\n",
       "<style scoped>\n",
       "    .dataframe tbody tr th:only-of-type {\n",
       "        vertical-align: middle;\n",
       "    }\n",
       "\n",
       "    .dataframe tbody tr th {\n",
       "        vertical-align: top;\n",
       "    }\n",
       "\n",
       "    .dataframe thead th {\n",
       "        text-align: right;\n",
       "    }\n",
       "</style>\n",
       "<table border=\"1\" class=\"dataframe\">\n",
       "  <thead>\n",
       "    <tr style=\"text-align: right;\">\n",
       "      <th></th>\n",
       "      <th>id</th>\n",
       "      <th>name</th>\n",
       "      <th>description</th>\n",
       "      <th>url</th>\n",
       "      <th>category</th>\n",
       "      <th>language</th>\n",
       "      <th>country</th>\n",
       "    </tr>\n",
       "  </thead>\n",
       "  <tbody>\n",
       "  </tbody>\n",
       "</table>\n",
       "</div>"
      ],
      "text/plain": [
       "Empty DataFrame\n",
       "Columns: [id, name, description, url, category, language, country]\n",
       "Index: []"
      ]
     },
     "execution_count": 30,
     "metadata": {},
     "output_type": "execute_result"
    }
   ],
   "source": [
    "sources[sources['url'].str.contains('Sky')]"
   ]
  },
  {
   "cell_type": "markdown",
   "metadata": {
    "extensions": {
     "jupyter_dashboards": {
      "version": 1,
      "views": {
       "grid_default": {},
       "report_default": {
        "hidden": false
       }
      }
     }
    },
    "hidden": true
   },
   "source": [
    "Nope, still doesn't find em. "
   ]
  },
  {
   "cell_type": "code",
   "execution_count": 31,
   "metadata": {
    "extensions": {
     "jupyter_dashboards": {
      "version": 1,
      "views": {
       "grid_default": {},
       "report_default": {
        "hidden": false
       }
      }
     }
    },
    "hidden": true
   },
   "outputs": [
    {
     "data": {
      "text/html": [
       "<div>\n",
       "<style scoped>\n",
       "    .dataframe tbody tr th:only-of-type {\n",
       "        vertical-align: middle;\n",
       "    }\n",
       "\n",
       "    .dataframe tbody tr th {\n",
       "        vertical-align: top;\n",
       "    }\n",
       "\n",
       "    .dataframe thead th {\n",
       "        text-align: right;\n",
       "    }\n",
       "</style>\n",
       "<table border=\"1\" class=\"dataframe\">\n",
       "  <thead>\n",
       "    <tr style=\"text-align: right;\">\n",
       "      <th></th>\n",
       "      <th>id</th>\n",
       "      <th>name</th>\n",
       "      <th>description</th>\n",
       "      <th>url</th>\n",
       "      <th>category</th>\n",
       "      <th>language</th>\n",
       "      <th>country</th>\n",
       "    </tr>\n",
       "  </thead>\n",
       "  <tbody>\n",
       "    <tr>\n",
       "      <th>0</th>\n",
       "      <td>bbc-news</td>\n",
       "      <td>BBC News</td>\n",
       "      <td>Use BBC News for up-to-the-minute news, breaki...</td>\n",
       "      <td>http://www.bbc.co.uk/news</td>\n",
       "      <td>general</td>\n",
       "      <td>en</td>\n",
       "      <td>gb</td>\n",
       "    </tr>\n",
       "    <tr>\n",
       "      <th>1</th>\n",
       "      <td>bbc-sport</td>\n",
       "      <td>BBC Sport</td>\n",
       "      <td>The home of BBC Sport online. Includes live sp...</td>\n",
       "      <td>http://www.bbc.co.uk/sport</td>\n",
       "      <td>sports</td>\n",
       "      <td>en</td>\n",
       "      <td>gb</td>\n",
       "    </tr>\n",
       "    <tr>\n",
       "      <th>2</th>\n",
       "      <td>business-insider-uk</td>\n",
       "      <td>Business Insider (UK)</td>\n",
       "      <td>Business Insider is a fast-growing business si...</td>\n",
       "      <td>http://uk.businessinsider.com</td>\n",
       "      <td>business</td>\n",
       "      <td>en</td>\n",
       "      <td>gb</td>\n",
       "    </tr>\n",
       "    <tr>\n",
       "      <th>3</th>\n",
       "      <td>four-four-two</td>\n",
       "      <td>FourFourTwo</td>\n",
       "      <td>The latest football news, in-depth features, t...</td>\n",
       "      <td>http://www.fourfourtwo.com/news</td>\n",
       "      <td>sports</td>\n",
       "      <td>en</td>\n",
       "      <td>gb</td>\n",
       "    </tr>\n",
       "    <tr>\n",
       "      <th>4</th>\n",
       "      <td>google-news-uk</td>\n",
       "      <td>Google News (UK)</td>\n",
       "      <td>Comprehensive, up-to-date UK news coverage, ag...</td>\n",
       "      <td>https://news.google.com</td>\n",
       "      <td>general</td>\n",
       "      <td>en</td>\n",
       "      <td>gb</td>\n",
       "    </tr>\n",
       "    <tr>\n",
       "      <th>5</th>\n",
       "      <td>independent</td>\n",
       "      <td>Independent</td>\n",
       "      <td>National morning quality (tabloid) includes fr...</td>\n",
       "      <td>http://www.independent.co.uk</td>\n",
       "      <td>general</td>\n",
       "      <td>en</td>\n",
       "      <td>gb</td>\n",
       "    </tr>\n",
       "    <tr>\n",
       "      <th>6</th>\n",
       "      <td>mtv-news-uk</td>\n",
       "      <td>MTV News (UK)</td>\n",
       "      <td>All the latest celebrity news, gossip, exclusi...</td>\n",
       "      <td>http://www.mtv.co.uk/news</td>\n",
       "      <td>entertainment</td>\n",
       "      <td>en</td>\n",
       "      <td>gb</td>\n",
       "    </tr>\n",
       "    <tr>\n",
       "      <th>7</th>\n",
       "      <td>talksport</td>\n",
       "      <td>TalkSport</td>\n",
       "      <td>Tune in to the world's biggest sports radio st...</td>\n",
       "      <td>http://talksport.com</td>\n",
       "      <td>sports</td>\n",
       "      <td>en</td>\n",
       "      <td>gb</td>\n",
       "    </tr>\n",
       "    <tr>\n",
       "      <th>8</th>\n",
       "      <td>the-lad-bible</td>\n",
       "      <td>The Lad Bible</td>\n",
       "      <td>The LAD Bible is one of the largest community ...</td>\n",
       "      <td>https://www.theladbible.com</td>\n",
       "      <td>entertainment</td>\n",
       "      <td>en</td>\n",
       "      <td>gb</td>\n",
       "    </tr>\n",
       "    <tr>\n",
       "      <th>9</th>\n",
       "      <td>the-sport-bible</td>\n",
       "      <td>The Sport Bible</td>\n",
       "      <td>TheSPORTbible is one of the largest communitie...</td>\n",
       "      <td>https://www.thesportbible.com</td>\n",
       "      <td>sports</td>\n",
       "      <td>en</td>\n",
       "      <td>gb</td>\n",
       "    </tr>\n",
       "  </tbody>\n",
       "</table>\n",
       "</div>"
      ],
      "text/plain": [
       "                    id                   name  \\\n",
       "0             bbc-news               BBC News   \n",
       "1            bbc-sport              BBC Sport   \n",
       "2  business-insider-uk  Business Insider (UK)   \n",
       "3        four-four-two            FourFourTwo   \n",
       "4       google-news-uk       Google News (UK)   \n",
       "5          independent            Independent   \n",
       "6          mtv-news-uk          MTV News (UK)   \n",
       "7            talksport              TalkSport   \n",
       "8        the-lad-bible          The Lad Bible   \n",
       "9      the-sport-bible        The Sport Bible   \n",
       "\n",
       "                                         description  \\\n",
       "0  Use BBC News for up-to-the-minute news, breaki...   \n",
       "1  The home of BBC Sport online. Includes live sp...   \n",
       "2  Business Insider is a fast-growing business si...   \n",
       "3  The latest football news, in-depth features, t...   \n",
       "4  Comprehensive, up-to-date UK news coverage, ag...   \n",
       "5  National morning quality (tabloid) includes fr...   \n",
       "6  All the latest celebrity news, gossip, exclusi...   \n",
       "7  Tune in to the world's biggest sports radio st...   \n",
       "8  The LAD Bible is one of the largest community ...   \n",
       "9  TheSPORTbible is one of the largest communitie...   \n",
       "\n",
       "                               url       category language country  \n",
       "0        http://www.bbc.co.uk/news        general       en      gb  \n",
       "1       http://www.bbc.co.uk/sport         sports       en      gb  \n",
       "2    http://uk.businessinsider.com       business       en      gb  \n",
       "3  http://www.fourfourtwo.com/news         sports       en      gb  \n",
       "4          https://news.google.com        general       en      gb  \n",
       "5     http://www.independent.co.uk        general       en      gb  \n",
       "6        http://www.mtv.co.uk/news  entertainment       en      gb  \n",
       "7             http://talksport.com         sports       en      gb  \n",
       "8      https://www.theladbible.com  entertainment       en      gb  \n",
       "9    https://www.thesportbible.com         sports       en      gb  "
      ]
     },
     "execution_count": 31,
     "metadata": {},
     "output_type": "execute_result"
    }
   ],
   "source": [
    "sources"
   ]
  },
  {
   "cell_type": "markdown",
   "metadata": {
    "extensions": {
     "jupyter_dashboards": {
      "version": 1,
      "views": {
       "grid_default": {},
       "report_default": {
        "hidden": false
       }
      }
     }
    },
    "hidden": true
   },
   "source": [
    "This is just a filtered version of the previous list.  \n",
    "It's a mystery for now. "
   ]
  },
  {
   "cell_type": "markdown",
   "metadata": {
    "extensions": {
     "jupyter_dashboards": {
      "version": 1,
      "views": {
       "grid_default": {},
       "report_default": {
        "hidden": false
       }
      }
     }
    },
    "heading_collapsed": true
   },
   "source": [
    "## Get the news I want"
   ]
  },
  {
   "cell_type": "code",
   "execution_count": 32,
   "metadata": {
    "extensions": {
     "jupyter_dashboards": {
      "version": 1,
      "views": {
       "grid_default": {},
       "report_default": {
        "hidden": true
       }
      }
     }
    },
    "hidden": true
   },
   "outputs": [],
   "source": [
    "language = 'en'\n",
    "my_sources = []\n",
    "banned_topics = []"
   ]
  },
  {
   "cell_type": "code",
   "execution_count": null,
   "metadata": {
    "hidden": true
   },
   "outputs": [],
   "source": []
  }
 ],
 "metadata": {
  "extensions": {
   "jupyter_dashboards": {
    "activeView": "report_default",
    "version": 1,
    "views": {
     "grid_default": {
      "cellMargin": 10,
      "defaultCellHeight": 20,
      "maxColumns": 12,
      "name": "grid",
      "type": "grid"
     },
     "report_default": {
      "name": "report",
      "type": "report"
     }
    }
   }
  },
  "kernelspec": {
   "display_name": "Python 3",
   "language": "python",
   "name": "python3"
  },
  "language_info": {
   "codemirror_mode": {
    "name": "ipython",
    "version": 3
   },
   "file_extension": ".py",
   "mimetype": "text/x-python",
   "name": "python",
   "nbconvert_exporter": "python",
   "pygments_lexer": "ipython3",
   "version": "3.7.6"
  },
  "toc": {
   "base_numbering": 1,
   "nav_menu": {},
   "number_sections": true,
   "sideBar": true,
   "skip_h1_title": false,
   "title_cell": "Table of Contents",
   "title_sidebar": "Contents",
   "toc_cell": false,
   "toc_position": {},
   "toc_section_display": true,
   "toc_window_display": false
  }
 },
 "nbformat": 4,
 "nbformat_minor": 4
}
